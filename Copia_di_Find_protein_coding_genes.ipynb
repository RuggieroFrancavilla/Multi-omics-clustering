{
  "nbformat": 4,
  "nbformat_minor": 0,
  "metadata": {
    "colab": {
      "name": "Copia di Find protein coding genes.ipynb",
      "provenance": [],
      "collapsed_sections": [],
      "toc_visible": true
    },
    "kernelspec": {
      "name": "python3",
      "display_name": "Python 3"
    },
    "language_info": {
      "name": "python"
    }
  },
  "cells": [
    {
      "cell_type": "code",
      "metadata": {
        "id": "3Nn_hRaUb3iq"
      },
      "source": [
        "import gdown\n",
        "import pandas as pd"
      ],
      "execution_count": null,
      "outputs": []
    },
    {
      "cell_type": "markdown",
      "metadata": {
        "id": "U96IqzpGZmiL"
      },
      "source": [
        "# Lung dataset"
      ]
    },
    {
      "cell_type": "code",
      "metadata": {
        "id": "_PLwwCUf3_h4"
      },
      "source": [
        "# Download the list of ENSEMBL gene IDs of human protein coding genes\n",
        "# ENSEMBL query link:\n",
        "# http://www.ensembl.org/biomart/martview/9297b85077443bcbacafda52321dec03?VIRTUALSCHEMANAME=default&ATTRIBUTES=hsapiens_gene_ensembl.default.feature_page.ensembl_gene_id&FILTERS=hsapiens_gene_ensembl.default.filters.biotype.\"protein_coding\"&VISIBLEPANEL=resultspanel\n",
        "!gdown 'https://drive.google.com/uc?id=169SqxA_SvVDtjf6rFeWmBAyrxd7GBJwz' -O ./protein_coding_genes.txt\n",
        "protein_coding_gene_ids_df = pd.read_csv('protein_coding_genes.txt')\n",
        "\n",
        "\n",
        "# Download the mRNA dataset obtained for the lung dataset\n",
        "!gdown 'https://drive.google.com/uc?id=1kNQxRoCs6TIGVzdlpEpUkAqx8FyoSrsi' -O ./mRNA.txt\n",
        "mRNA_df = pd.read_csv('mRNA.txt', sep='\\t', index_col=0)\n",
        "\n",
        "# Retrieve the list of gene ids present in the mRNA dataset\n",
        "genes = list(mRNA_df.columns)\n",
        "# Remove the gene version\n",
        "gene_ids = [gene.split('.')[0] for gene in genes]\n",
        "gene_ids_df = pd.DataFrame(gene_ids)\n",
        "\n",
        "\n",
        "# Left-join the two lists and keep only protein coding genes present in the mRNA dataset (by deleting rows with NaN values)\n",
        "selected_protein_coding_gene_ids_df = gene_ids_df.merge(protein_coding_gene_ids_df, how='left', left_on=int(gene_ids_df[0].name), right_on='Gene stable ID', suffixes=('_x', '_y'))\n",
        "idx_df = selected_protein_coding_gene_ids_df.dropna()\n",
        "idx_df = pd.DataFrame(idx_df.index).rename(columns={0:'idx'})\n",
        "idx_df.to_csv('idx_mRNA_prot_cod_lung.txt', sep='\\t', index=False)"
      ],
      "execution_count": null,
      "outputs": []
    },
    {
      "cell_type": "markdown",
      "metadata": {
        "id": "i6KibKXeb7JY"
      },
      "source": [
        "# Kidney dataset"
      ]
    },
    {
      "cell_type": "code",
      "metadata": {
        "id": "9h9OvMGOb8FX"
      },
      "source": [
        "# Download the list of Ensembl gene IDs of human protein coding genes\n",
        "# ENSEMBL query link:\n",
        "# http://www.ensembl.org/biomart/martview/9297b85077443bcbacafda52321dec03?VIRTUALSCHEMANAME=default&ATTRIBUTES=hsapiens_gene_ensembl.default.feature_page.ensembl_gene_id&FILTERS=hsapiens_gene_ensembl.default.filters.biotype.\"protein_coding\"&VISIBLEPANEL=resultspanel\n",
        "!gdown 'https://drive.google.com/uc?id=169SqxA_SvVDtjf6rFeWmBAyrxd7GBJwz' -O ./protein_coding_genes.txt\n",
        "protein_coding_gene_ids_df = pd.read_csv('protein_coding_genes.txt')\n",
        "\n",
        "\n",
        "# Download the mRNA dataset obtained for the kidney dataset\n",
        "!gdown 'https://drive.google.com/uc?id=1i1do_UTzwXzPVIDDmYSFJEholK2Mp8g_' -O ./mRNA.txt\n",
        "mRNA_df = pd.read_csv('mRNA.txt', sep='\\t', index_col=0)\n",
        "\n",
        "# Retrieve the list of gene ids present in the mRNA dataset\n",
        "genes = list(mRNA_df.columns)\n",
        "# Remove the gene version\n",
        "gene_ids = [gene.split('.')[0] for gene in genes]\n",
        "gene_ids_df = pd.DataFrame(gene_ids)\n",
        "\n",
        "\n",
        "# Left-join the two lists and keep only protein coding genes present in the mRNA dataset (by deleting rows with NaN values)\n",
        "selected_protein_coding_gene_ids_df = gene_ids_df.merge(protein_coding_gene_ids_df, how='left', left_on=int(gene_ids_df[0].name), right_on='Gene stable ID', suffixes=('_x', '_y'))\n",
        "idx_df = selected_protein_coding_gene_ids_df.dropna()\n",
        "idx_df = pd.DataFrame(idx_df.index).rename(columns={0:'idx'})\n",
        "idx_df.to_csv('idx_mRNA_prot_cod_kidney.txt', sep='\\t', index=False)"
      ],
      "execution_count": null,
      "outputs": []
    }
  ]
}