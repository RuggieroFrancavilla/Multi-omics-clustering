{
  "nbformat": 4,
  "nbformat_minor": 0,
  "metadata": {
    "colab": {
      "name": "Copia di Find common meth probes illumina 27k/450k.ipynb",
      "provenance": [],
      "collapsed_sections": []
    },
    "kernelspec": {
      "name": "python3",
      "display_name": "Python 3"
    },
    "language_info": {
      "name": "python"
    }
  },
  "cells": [
    {
      "cell_type": "code",
      "metadata": {
        "id": "f6y7rhFFBA5c"
      },
      "source": [
        "import gdown\n",
        "import pandas as pd\n",
        "\n",
        "# Download any illumina methylation 27k file and get the name of the probes and their relative index\n",
        "!gdown 'https://drive.google.com/uc?id=1irSWLhuNkB4OJuKQUDU7OYmVpF2uYSDC' -O ./meth_27_sample.txt\n",
        "meth_27_df = pd.read_csv('meth_27_sample.txt', sep='\\t')\n",
        "meth_27_df['idx'] = meth_27_df.index\n",
        "meth_27_df = meth_27_df[['Composite Element REF','idx']]\n",
        "\n",
        "\n",
        "# Download any illumina methylation 450k file and get the name of the probes and their relative index\n",
        "!gdown 'https://drive.google.com/uc?id=1Snxhac99DMFR0oTWNMU2IsznbzlHfAxD' -O ./meth_450_sample.txt\n",
        "meth_450_df = pd.read_csv('meth_450_sample.txt', sep='\\t')\n",
        "meth_450_df['idx'] = meth_450_df.index\n",
        "meth_450_df = meth_450_df[['Composite Element REF','idx']]\n",
        "\n",
        "\n",
        "# Inner-join the two dataframes on the probes' names (i.e. their unique identifiers)\n",
        "# This filters out any probes which are not in common between the two platforms\n",
        "meth_df = meth_450_df.merge(meth_27_df, how='inner', on=\"Composite Element REF\", suffixes=('_450','_27'))\n",
        "\n",
        "\n",
        "# Save the relative indices of the common probes, relative to a generic illumina meth 450k file\n",
        "meth_df['idx_450'].to_csv('meth_450_indices.txt', header=True, index=False)\n",
        "\n",
        "\n",
        "# Save the relative indices of the common probes, relative to a generic illumina meth 27k file\n",
        "#meth_df['idx_27'].to_csv('meth_27_indices.txt', header=True, index=False)"
      ],
      "execution_count": null,
      "outputs": []
    }
  ]
}
